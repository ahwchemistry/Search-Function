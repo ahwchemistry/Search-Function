{
 "cells": [
  {
   "cell_type": "markdown",
   "metadata": {},
   "source": [
    "# Welcome to the food code searching algorithm!\n",
    "\n",
    "## Purpose\n",
    "    This is primarily to be used with the food codes contained within foodcodes.xls. The included file \"Search.py\" contains two functions: searchfoodcodes(list codes) and searchfooddesc(string description) \n",
    "    \n",
    "## Example 1: Search food codes"
   ]
  },
  {
   "cell_type": "code",
   "execution_count": 2,
   "metadata": {},
   "outputs": [],
   "source": [
    "from Search import searchfoodcodes\n",
    "from Search import searchfooddesc"
   ]
  },
  {
   "cell_type": "code",
   "execution_count": 3,
   "metadata": {},
   "outputs": [
    {
     "data": {
      "text/plain": [
       "([11112110, 11112120, 11112130, 11112210],\n",
       " ['Milk, reduced fat (2%)',\n",
       "  'Milk, acidophilus, low fat (1%)',\n",
       "  'Milk, acidophilus, reduced fat (2%)',\n",
       "  'Milk, low fat (1%)'])"
      ]
     },
     "execution_count": 3,
     "metadata": {},
     "output_type": "execute_result"
    }
   ],
   "source": [
    "targcodes = [11112110, 11112120, 11112130, 11112210]\n",
    "\n",
    "searchfoodcodes(targcodes)"
   ]
  },
  {
   "cell_type": "markdown",
   "metadata": {},
   "source": [
    "## Example 2: Search food descriptions\n",
    "This modification can allow one to find a certain food if the code is otherwise unknown.\n"
   ]
  },
  {
   "cell_type": "code",
   "execution_count": 4,
   "metadata": {},
   "outputs": [
    {
     "data": {
      "text/plain": [
       "([11000000,\n",
       "  11100000,\n",
       "  11111000,\n",
       "  11111100,\n",
       "  11111150,\n",
       "  11111160,\n",
       "  11111170,\n",
       "  11112110,\n",
       "  11112120,\n",
       "  11112130,\n",
       "  11112210,\n",
       "  11113000,\n",
       "  11114300,\n",
       "  11114320,\n",
       "  11114330,\n",
       "  11114350,\n",
       "  11120000,\n",
       "  11121100,\n",
       "  11121210,\n",
       "  11121300,\n",
       "  11210050,\n",
       "  11211050,\n",
       "  11211400,\n",
       "  11212050,\n",
       "  11220000,\n",
       "  11525000,\n",
       "  11526000,\n",
       "  11541110,\n",
       "  11541120,\n",
       "  11541130,\n",
       "  11541135,\n",
       "  11541400,\n",
       "  11542100,\n",
       "  11542200,\n",
       "  11543000,\n",
       "  11543010,\n",
       "  11810000,\n",
       "  11811000,\n",
       "  11812000,\n",
       "  11813000,\n",
       "  11830260,\n",
       "  13142000,\n",
       "  13161000,\n",
       "  13161500,\n",
       "  13161520,\n",
       "  13161600,\n",
       "  13252200,\n",
       "  13412000,\n",
       "  53710600,\n",
       "  91705010,\n",
       "  91705020,\n",
       "  91705050,\n",
       "  91705060],\n",
       " ['Milk, human',\n",
       "  'Milk, NFS',\n",
       "  'Milk, whole',\n",
       "  'Milk, low sodium, whole',\n",
       "  'Milk, calcium fortified, whole',\n",
       "  'Milk, calcium fortified, low fat (1%)',\n",
       "  'Milk, calcium fortified, fat free (skim)',\n",
       "  'Milk, reduced fat (2%)',\n",
       "  'Milk, acidophilus, low fat (1%)',\n",
       "  'Milk, acidophilus, reduced fat (2%)',\n",
       "  'Milk, low fat (1%)',\n",
       "  'Milk, fat free (skim)',\n",
       "  'Milk, lactose free, low fat (1%)',\n",
       "  'Milk, lactose free, fat free (skim)',\n",
       "  'Milk, lactose free, reduced fat (2%)',\n",
       "  'Milk, lactose free, whole',\n",
       "  'Milk, dry, reconstituted, NS as to fat content',\n",
       "  'Milk, dry, reconstituted, whole',\n",
       "  'Milk, dry, reconstituted, low fat (1%)',\n",
       "  'Milk, dry, reconstituted, fat free (skim)',\n",
       "  'Milk, evaporated, NS as to fat content ',\n",
       "  'Milk, evaporated, whole ',\n",
       "  'Milk, evaporated, reduced fat (2%)',\n",
       "  'Milk, evaporated, fat free (skim)',\n",
       "  'Milk, condensed, sweetened',\n",
       "  'Milk, malted, natural flavor, made with milk',\n",
       "  'Milk, malted, chocolate, made with milk',\n",
       "  'Milk shake, home recipe, chocolate',\n",
       "  'Milk shake, home recipe, flavors other than chocolate',\n",
       "  'Milk shake, home recipe, chocolate, light',\n",
       "  'Milk shake, home recipe, flavors other than chocolate, light',\n",
       "  'Milk shake with malt',\n",
       "  'Milk shake, fast food, chocolate',\n",
       "  'Milk shake, fast food, flavors other than chocolate',\n",
       "  'Milk shake, bottled, chocolate',\n",
       "  'Milk shake, bottled, flavors other than chocolate',\n",
       "  'Milk, dry, not reconstituted, NS as to fat content ',\n",
       "  'Milk, dry, not reconstituted, whole',\n",
       "  'Milk, dry, not reconstituted, low fat (1%)',\n",
       "  'Milk, dry, not reconstituted, fat free (skim)',\n",
       "  'Milk, malted, dry mix, not reconstituted',\n",
       "  'Milk dessert bar or stick, frozen, with coconut',\n",
       "  'Milk dessert bar, frozen, made from lowfat milk',\n",
       "  'Milk dessert sandwich bar, frozen, made from lowfat milk',\n",
       "  'Milk dessert sandwich bar, frozen, with low-calorie sweetener, made from lowfat milk',\n",
       "  'Milk dessert bar, frozen, made from lowfat milk and low calorie sweetener',\n",
       "  'Milk dessert or milk candy, Puerto Rican style (Dulce de leche)',\n",
       "  'Milk gravy, quick gravy',\n",
       "  \"Milk 'n Cereal bar\",\n",
       "  'Milk chocolate candy, plain',\n",
       "  'Milk chocolate candy, with cereal',\n",
       "  'Milk chocolate candy, with fruit and nuts',\n",
       "  'Milk chocolate candy, with almonds'])"
      ]
     },
     "execution_count": 4,
     "metadata": {},
     "output_type": "execute_result"
    }
   ],
   "source": [
    "searchfooddesc(\"Milk\")"
   ]
  },
  {
   "cell_type": "markdown",
   "metadata": {},
   "source": [
    "# Possible Errors\n",
    "\n",
    "## searchfoodcodes\n",
    "### Passing in strings or bool\n"
   ]
  },
  {
   "cell_type": "code",
   "execution_count": 7,
   "metadata": {},
   "outputs": [
    {
     "name": "stdout",
     "output_type": "stream",
     "text": [
      "WARNING, FOOD CODE WAS NOT FOUND, WILL RECEIVE BLANK VARIABLE\n",
      "WARNING, FOOD CODE WAS NOT FOUND, WILL RECEIVE BLANK VARIABLE\n"
     ]
    },
    {
     "name": "stderr",
     "output_type": "stream",
     "text": [
      "C:\\ProgramData\\Anaconda3\\lib\\site-packages\\numpy\\lib\\arraysetops.py:466: FutureWarning: elementwise comparison failed; returning scalar instead, but in the future will perform elementwise comparison\n",
      "  mask |= (ar1 == a)\n"
     ]
    },
    {
     "data": {
      "text/plain": [
       "([], [])"
      ]
     },
     "execution_count": 7,
     "metadata": {},
     "output_type": "execute_result"
    }
   ],
   "source": [
    "searchfoodcodes(\"HELLO\")\n",
    "searchfoodcodes(True)"
   ]
  },
  {
   "cell_type": "markdown",
   "metadata": {},
   "source": [
    "## searchfooddesc\n",
    "## Passing in numbers or bool"
   ]
  },
  {
   "cell_type": "code",
   "execution_count": 9,
   "metadata": {},
   "outputs": [
    {
     "ename": "TypeError",
     "evalue": "first argument must be string or compiled pattern",
     "output_type": "error",
     "traceback": [
      "\u001b[1;31m---------------------------------------------------------------------------\u001b[0m",
      "\u001b[1;31mTypeError\u001b[0m                                 Traceback (most recent call last)",
      "\u001b[1;32m<ipython-input-9-f12e9b797cbf>\u001b[0m in \u001b[0;36m<module>\u001b[1;34m()\u001b[0m\n\u001b[1;32m----> 1\u001b[1;33m \u001b[0msearchfooddesc\u001b[0m\u001b[1;33m(\u001b[0m\u001b[1;36m2929292929\u001b[0m\u001b[1;33m)\u001b[0m\u001b[1;33m\u001b[0m\u001b[0m\n\u001b[0m\u001b[0;32m      2\u001b[0m \u001b[0msearchfooddesc\u001b[0m\u001b[1;33m(\u001b[0m\u001b[1;32mTrue\u001b[0m\u001b[1;33m)\u001b[0m\u001b[1;33m\u001b[0m\u001b[0m\n",
      "\u001b[1;32m~\\OneDrive - University of Kentucky\\SciPy Course\\Search\\Search.py\u001b[0m in \u001b[0;36msearchfooddesc\u001b[1;34m(targ_desc)\u001b[0m\n\u001b[0;32m     79\u001b[0m \u001b[1;33m\u001b[0m\u001b[0m\n\u001b[0;32m     80\u001b[0m     \u001b[1;31m#Determine where the indexes are that contain the food description\u001b[0m\u001b[1;33m\u001b[0m\u001b[1;33m\u001b[0m\u001b[0m\n\u001b[1;32m---> 81\u001b[1;33m     \u001b[0mlocations\u001b[0m \u001b[1;33m=\u001b[0m \u001b[0mzarray\u001b[0m\u001b[1;33m.\u001b[0m\u001b[0mstr\u001b[0m\u001b[1;33m.\u001b[0m\u001b[0mmatch\u001b[0m\u001b[1;33m(\u001b[0m\u001b[0mtarg_desc\u001b[0m\u001b[1;33m)\u001b[0m\u001b[1;33m\u001b[0m\u001b[0m\n\u001b[0m\u001b[0;32m     82\u001b[0m \u001b[1;33m\u001b[0m\u001b[0m\n\u001b[0;32m     83\u001b[0m \u001b[1;33m\u001b[0m\u001b[0m\n",
      "\u001b[1;32mC:\\ProgramData\\Anaconda3\\lib\\site-packages\\pandas\\core\\strings.py\u001b[0m in \u001b[0;36mmatch\u001b[1;34m(self, pat, case, flags, na, as_indexer)\u001b[0m\n\u001b[0;32m   1571\u001b[0m     \u001b[1;32mdef\u001b[0m \u001b[0mmatch\u001b[0m\u001b[1;33m(\u001b[0m\u001b[0mself\u001b[0m\u001b[1;33m,\u001b[0m \u001b[0mpat\u001b[0m\u001b[1;33m,\u001b[0m \u001b[0mcase\u001b[0m\u001b[1;33m=\u001b[0m\u001b[1;32mTrue\u001b[0m\u001b[1;33m,\u001b[0m \u001b[0mflags\u001b[0m\u001b[1;33m=\u001b[0m\u001b[1;36m0\u001b[0m\u001b[1;33m,\u001b[0m \u001b[0mna\u001b[0m\u001b[1;33m=\u001b[0m\u001b[0mnp\u001b[0m\u001b[1;33m.\u001b[0m\u001b[0mnan\u001b[0m\u001b[1;33m,\u001b[0m \u001b[0mas_indexer\u001b[0m\u001b[1;33m=\u001b[0m\u001b[1;32mNone\u001b[0m\u001b[1;33m)\u001b[0m\u001b[1;33m:\u001b[0m\u001b[1;33m\u001b[0m\u001b[0m\n\u001b[0;32m   1572\u001b[0m         result = str_match(self._data, pat, case=case, flags=flags, na=na,\n\u001b[1;32m-> 1573\u001b[1;33m                            as_indexer=as_indexer)\n\u001b[0m\u001b[0;32m   1574\u001b[0m         \u001b[1;32mreturn\u001b[0m \u001b[0mself\u001b[0m\u001b[1;33m.\u001b[0m\u001b[0m_wrap_result\u001b[0m\u001b[1;33m(\u001b[0m\u001b[0mresult\u001b[0m\u001b[1;33m)\u001b[0m\u001b[1;33m\u001b[0m\u001b[0m\n\u001b[0;32m   1575\u001b[0m \u001b[1;33m\u001b[0m\u001b[0m\n",
      "\u001b[1;32mC:\\ProgramData\\Anaconda3\\lib\\site-packages\\pandas\\core\\strings.py\u001b[0m in \u001b[0;36mstr_match\u001b[1;34m(arr, pat, case, flags, na, as_indexer)\u001b[0m\n\u001b[0;32m    495\u001b[0m         \u001b[0mflags\u001b[0m \u001b[1;33m|=\u001b[0m \u001b[0mre\u001b[0m\u001b[1;33m.\u001b[0m\u001b[0mIGNORECASE\u001b[0m\u001b[1;33m\u001b[0m\u001b[0m\n\u001b[0;32m    496\u001b[0m \u001b[1;33m\u001b[0m\u001b[0m\n\u001b[1;32m--> 497\u001b[1;33m     \u001b[0mregex\u001b[0m \u001b[1;33m=\u001b[0m \u001b[0mre\u001b[0m\u001b[1;33m.\u001b[0m\u001b[0mcompile\u001b[0m\u001b[1;33m(\u001b[0m\u001b[0mpat\u001b[0m\u001b[1;33m,\u001b[0m \u001b[0mflags\u001b[0m\u001b[1;33m=\u001b[0m\u001b[0mflags\u001b[0m\u001b[1;33m)\u001b[0m\u001b[1;33m\u001b[0m\u001b[0m\n\u001b[0m\u001b[0;32m    498\u001b[0m \u001b[1;33m\u001b[0m\u001b[0m\n\u001b[0;32m    499\u001b[0m     \u001b[1;32mif\u001b[0m \u001b[1;33m(\u001b[0m\u001b[0mas_indexer\u001b[0m \u001b[1;32mis\u001b[0m \u001b[1;32mFalse\u001b[0m\u001b[1;33m)\u001b[0m \u001b[1;32mand\u001b[0m \u001b[1;33m(\u001b[0m\u001b[0mregex\u001b[0m\u001b[1;33m.\u001b[0m\u001b[0mgroups\u001b[0m \u001b[1;33m>\u001b[0m \u001b[1;36m0\u001b[0m\u001b[1;33m)\u001b[0m\u001b[1;33m:\u001b[0m\u001b[1;33m\u001b[0m\u001b[0m\n",
      "\u001b[1;32mC:\\ProgramData\\Anaconda3\\lib\\re.py\u001b[0m in \u001b[0;36mcompile\u001b[1;34m(pattern, flags)\u001b[0m\n\u001b[0;32m    231\u001b[0m \u001b[1;32mdef\u001b[0m \u001b[0mcompile\u001b[0m\u001b[1;33m(\u001b[0m\u001b[0mpattern\u001b[0m\u001b[1;33m,\u001b[0m \u001b[0mflags\u001b[0m\u001b[1;33m=\u001b[0m\u001b[1;36m0\u001b[0m\u001b[1;33m)\u001b[0m\u001b[1;33m:\u001b[0m\u001b[1;33m\u001b[0m\u001b[0m\n\u001b[0;32m    232\u001b[0m     \u001b[1;34m\"Compile a regular expression pattern, returning a pattern object.\"\u001b[0m\u001b[1;33m\u001b[0m\u001b[0m\n\u001b[1;32m--> 233\u001b[1;33m     \u001b[1;32mreturn\u001b[0m \u001b[0m_compile\u001b[0m\u001b[1;33m(\u001b[0m\u001b[0mpattern\u001b[0m\u001b[1;33m,\u001b[0m \u001b[0mflags\u001b[0m\u001b[1;33m)\u001b[0m\u001b[1;33m\u001b[0m\u001b[0m\n\u001b[0m\u001b[0;32m    234\u001b[0m \u001b[1;33m\u001b[0m\u001b[0m\n\u001b[0;32m    235\u001b[0m \u001b[1;32mdef\u001b[0m \u001b[0mpurge\u001b[0m\u001b[1;33m(\u001b[0m\u001b[1;33m)\u001b[0m\u001b[1;33m:\u001b[0m\u001b[1;33m\u001b[0m\u001b[0m\n",
      "\u001b[1;32mC:\\ProgramData\\Anaconda3\\lib\\re.py\u001b[0m in \u001b[0;36m_compile\u001b[1;34m(pattern, flags)\u001b[0m\n\u001b[0;32m    298\u001b[0m         \u001b[1;32mreturn\u001b[0m \u001b[0mpattern\u001b[0m\u001b[1;33m\u001b[0m\u001b[0m\n\u001b[0;32m    299\u001b[0m     \u001b[1;32mif\u001b[0m \u001b[1;32mnot\u001b[0m \u001b[0msre_compile\u001b[0m\u001b[1;33m.\u001b[0m\u001b[0misstring\u001b[0m\u001b[1;33m(\u001b[0m\u001b[0mpattern\u001b[0m\u001b[1;33m)\u001b[0m\u001b[1;33m:\u001b[0m\u001b[1;33m\u001b[0m\u001b[0m\n\u001b[1;32m--> 300\u001b[1;33m         \u001b[1;32mraise\u001b[0m \u001b[0mTypeError\u001b[0m\u001b[1;33m(\u001b[0m\u001b[1;34m\"first argument must be string or compiled pattern\"\u001b[0m\u001b[1;33m)\u001b[0m\u001b[1;33m\u001b[0m\u001b[0m\n\u001b[0m\u001b[0;32m    301\u001b[0m     \u001b[0mp\u001b[0m \u001b[1;33m=\u001b[0m \u001b[0msre_compile\u001b[0m\u001b[1;33m.\u001b[0m\u001b[0mcompile\u001b[0m\u001b[1;33m(\u001b[0m\u001b[0mpattern\u001b[0m\u001b[1;33m,\u001b[0m \u001b[0mflags\u001b[0m\u001b[1;33m)\u001b[0m\u001b[1;33m\u001b[0m\u001b[0m\n\u001b[0;32m    302\u001b[0m     \u001b[1;32mif\u001b[0m \u001b[1;32mnot\u001b[0m \u001b[1;33m(\u001b[0m\u001b[0mflags\u001b[0m \u001b[1;33m&\u001b[0m \u001b[0mDEBUG\u001b[0m\u001b[1;33m)\u001b[0m\u001b[1;33m:\u001b[0m\u001b[1;33m\u001b[0m\u001b[0m\n",
      "\u001b[1;31mTypeError\u001b[0m: first argument must be string or compiled pattern"
     ]
    }
   ],
   "source": [
    "searchfooddesc(2929292929)\n",
    "searchfooddesc(True)"
   ]
  },
  {
   "cell_type": "code",
   "execution_count": null,
   "metadata": {},
   "outputs": [],
   "source": []
  }
 ],
 "metadata": {
  "kernelspec": {
   "display_name": "Python 3",
   "language": "python",
   "name": "python3"
  },
  "language_info": {
   "codemirror_mode": {
    "name": "ipython",
    "version": 3
   },
   "file_extension": ".py",
   "mimetype": "text/x-python",
   "name": "python",
   "nbconvert_exporter": "python",
   "pygments_lexer": "ipython3",
   "version": "3.6.4"
  }
 },
 "nbformat": 4,
 "nbformat_minor": 2
}
